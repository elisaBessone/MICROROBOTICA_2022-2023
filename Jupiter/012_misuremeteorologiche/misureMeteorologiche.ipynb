{
 "cells": [
  {
   "cell_type": "code",
   "execution_count": 3,
   "id": "644b3b1a",
   "metadata": {},
   "outputs": [],
   "source": [
    "import numpy as np\n",
    "import matplotlib.pyplot as plt"
   ]
  },
  {
   "cell_type": "code",
   "execution_count": 4,
   "id": "7436f2ce",
   "metadata": {},
   "outputs": [],
   "source": [
    "error_value = 9999.9"
   ]
  },
  {
   "cell_type": "code",
   "execution_count": 5,
   "id": "05ad61f1",
   "metadata": {},
   "outputs": [],
   "source": [
    "f = open(\"MonthElb_012010_004028900.csv\")\n",
    "file = f.readlines()"
   ]
  },
  {
   "cell_type": "code",
   "execution_count": 6,
   "id": "c7adc7d8",
   "metadata": {},
   "outputs": [],
   "source": [
    "#dizionario = {\"DATA\":[], \"ORA\":[], \"ID_RETE_MONIT\":[], \"CODICE_ISTAT_COMUNE\":[], \"PROGR_PUNTO_COM\":[], \"VELV\":[],\n",
    "#              \"DIRV\":[], \"DEVST\":[], \"BARO\":[], \"TERMA\":[], \"IGRO\":[], \"RADD\":[], \"RADR\":[], \"PLUV\":[]}\n",
    "dizionario = {\"VELV\":[], \"BARO\":[], \"TERMA\":[], \"IGRO\":[], \"PLUV\":[]}\n",
    "header = [\"VELV\", \"BARO\", \"TERMA\", \"IGRO\", \"PLUV\"]     #dizionario.keys()\n",
    "posizione_campi = [5, 8, 9, 10, 13]\n",
    "for riga in file:\n",
    "    r = riga.split(\",\")\n",
    "    r[-1] = r[-1].strip()\n",
    "    #prendo solo campi utili a me\n",
    "    campi_utili = [float(r[i]) for i in posizione_campi]\n",
    "    \n",
    "    if error_value not in campi_utili:\n",
    "        for chiave, valore in zip(header, campi_utili):   #campi_utili\n",
    "            #print(chiave, valore)\n",
    "            #dizionario[chiave].append(float(r[valore]))\n",
    "            dizionario[chiave].append(valore)\n",
    "            \n",
    "        \"\"\"dizionario[\"VELV\"].append(campi_utili[])\n",
    "        dizionario[\"BARO\"].append(float(r[8]))\n",
    "        dizionario[\"TERMA\"].append(float(r[9]))\n",
    "        dizionario[\"IGRO\"].append(float(r[10]))\n",
    "        dizionario[\"PLUV\"].append(float(r[13]))\"\"\""
   ]
  },
  {
   "cell_type": "code",
   "execution_count": 7,
   "id": "c448b804",
   "metadata": {},
   "outputs": [
    {
     "data": {
      "text/plain": [
       "{'VELV': array([0.4, 0. , 0.6, ..., 1.3, 1.3, 1.8]),\n",
       " 'BARO': array([925.7, 925.1, 924.6, ..., 952.8, 953. , 952.9]),\n",
       " 'TERMA': array([ 1.3,  1.3,  1.4, ..., -3.9, -4.5, -4.5]),\n",
       " 'IGRO': array([ 84.,  84.,  84., ..., 100., 100., 100.]),\n",
       " 'PLUV': array([0., 0., 0., ..., 0., 0., 0.])}"
      ]
     },
     "execution_count": 7,
     "metadata": {},
     "output_type": "execute_result"
    }
   ],
   "source": [
    "for chiave in dizionario:\n",
    "    dizionario[chiave] = np.array(dizionario[chiave])\n",
    "dizionario"
   ]
  },
  {
   "cell_type": "code",
   "execution_count": 1,
   "id": "3d48f3ff",
   "metadata": {},
   "outputs": [
    {
     "ename": "NameError",
     "evalue": "name 'dizionario' is not defined",
     "output_type": "error",
     "traceback": [
      "\u001b[1;31m---------------------------------------------------------------------------\u001b[0m",
      "\u001b[1;31mNameError\u001b[0m                                 Traceback (most recent call last)",
      "Input \u001b[1;32mIn [1]\u001b[0m, in \u001b[0;36m<cell line: 3>\u001b[1;34m()\u001b[0m\n\u001b[0;32m      1\u001b[0m \u001b[38;5;66;03m#caratteristiche = [\"VELV\", \"BARO\", \"TERMA\", \"IGRO\", \"PLUV\"]\u001b[39;00m\n\u001b[0;32m      2\u001b[0m \u001b[38;5;66;03m#n = len(caratteristiche)\u001b[39;00m\n\u001b[1;32m----> 3\u001b[0m n \u001b[38;5;241m=\u001b[39m \u001b[38;5;28mlen\u001b[39m(\u001b[43mdizionario\u001b[49m\u001b[38;5;241m.\u001b[39mkeys())\n\u001b[0;32m      4\u001b[0m \u001b[38;5;28mprint\u001b[39m(\u001b[38;5;28menumerate\u001b[39m(dizionario\u001b[38;5;241m.\u001b[39mkeys()))\n\u001b[0;32m      5\u001b[0m fig, axs \u001b[38;5;241m=\u001b[39m plt\u001b[38;5;241m.\u001b[39msubplots(n, n, figsize \u001b[38;5;241m=\u001b[39m (\u001b[38;5;241m32\u001b[39m,\u001b[38;5;241m32\u001b[39m))\n",
      "\u001b[1;31mNameError\u001b[0m: name 'dizionario' is not defined"
     ]
    }
   ],
   "source": [
    "#caratteristiche = [\"VELV\", \"BARO\", \"TERMA\", \"IGRO\", \"PLUV\"]\n",
    "#n = len(caratteristiche)\n",
    "n = len(dizionario.keys())\n",
    "fig, axs = plt.subplots(n, n, figsize = (32,32))\n",
    "for j, dato_y in enumerate(dizionario.keys()):      #len(caratteristiche)\n",
    "    for i, dato_x in enumerate(dizionario.keys()):\n",
    "        if i != j:\n",
    "            \n",
    "            axs[j,i].scatter(dizionario[dato_x], dizionario[dato_y], c = 'orange', alpha = 0.5)\n",
    "            axs[j,i].set_xlabel(dato_x, fontsize = 14)\n",
    "            axs[j,i].set_ylabel(dato_y, fontsize = 14)\n",
    "            \n",
    "        else:\n",
    "            axs[j,i].hist(dizionario[dato_x], color = 'orange', ec = 'black')\n",
    "            axs[j,i].set_xlabel(dato_x, fontsize = 14)\n",
    "            \n",
    "fig.suptitle(\"Misure meteorologiche Boves\", fontsize = 40)\n",
    "plt.show()"
   ]
  },
  {
   "cell_type": "code",
   "execution_count": 9,
   "id": "dfb2f326",
   "metadata": {},
   "outputs": [
    {
     "data": {
      "image/png": "[encoded data removed]",
      "text/plain": [
       "<Figure size 1152x576 with 1 Axes>"
      ]
     },
     "metadata": {
      "needs_background": "light"
     },
     "output_type": "display_data"
    }
   ],
   "source": [
    "# grafico precipitazioni\n",
    "fig, ax = plt.subplots(figsize = (16,8))\n",
    "\n",
    "ax.hist(dizionario[\"PLUV\"], bins = 500, label = \"Frequenza assoluta precipitazioni\", color = 'orange', ec = 'black')\n",
    "\n",
    "ax.set_title(\"Grafico precipitazioni annuali\", fontsize = 20)\n",
    "ax.set_xlabel(\"valore precipitazione\")\n",
    "ax.set_ylabel(\"frequenza assoluta\")\n",
    "ax.legend()\n",
    "plt.show()"
   ]
  }
 ],
 "metadata": {
  "kernelspec": {
   "display_name": "Python 3 (ipykernel)",
   "language": "python",
   "name": "python3"
  },
  "language_info": {
   "codemirror_mode": {
    "name": "ipython",
    "version": 3
   },
   "file_extension": ".py",
   "mimetype": "text/x-python",
   "name": "python",
   "nbconvert_exporter": "python",
   "pygments_lexer": "ipython3",
   "version": "3.9.12"
  }
 },
 "nbformat": 4,
 "nbformat_minor": 5
}

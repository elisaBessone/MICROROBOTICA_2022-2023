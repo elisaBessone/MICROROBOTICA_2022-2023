{
 "cells": [
  {
   "cell_type": "code",
   "execution_count": 1,
   "id": "a4ae9fe9",
   "metadata": {},
   "outputs": [],
   "source": [
    "import numpy as np\n",
    "import matplotlib.pyplot as plt"
   ]
  },
  {
   "cell_type": "markdown",
   "id": "de801a19",
   "metadata": {},
   "source": [
    "### Esercizio 1\n",
    "Nel file `covid-19_gen1.txt` è presente l'RNA di un virus SARS-COV-2. L'RNA è una sequenza in cui si alternano 4 simboli (detti nucleotidi): A, T, C, G.\n",
    "L'RNA del  virus SARS-COV-2 contiene 29903 nucleotidi. Leggi il file e crea un array di Numpy contenente i 29903 elementi, uno per ogni nucleotide secondo l'ordine contenuto nel file.\n",
    "\n",
    "Utilizza Numpy per:\n",
    "1. calcolare la frequenza assoluta di ogni nucleotide;\n",
    "2. calcolare la frequenza assoluta della sequenza A,T,G;\n",
    "4. sapendo che la sequenza A,T,G,T,T,T,G,T,T,T,T,T sta all'inzio del segmento di RNA che codifica la proteina spike, individuare se la proteina spike è presente nell'RNA: in caso affermativo ottenere la posizione iniziale della proteina spike all'interno dell'array. *SUGGERIMENTO*: costruisci la matrice contenente tutte le possibili sequenze di 12 nucleotidi, nella quale ogni riga rappresenta una sequenza consecutiva di 12 nucleotidi."
   ]
  },
  {
   "cell_type": "code",
   "execution_count": 2,
   "id": "fbe95498",
   "metadata": {},
   "outputs": [],
   "source": [
    "l = []\n",
    "with open(\"./covid-19_gen1.txt\",\"r\") as f:\n",
    "    righe = f.readlines()\n",
    "for riga in righe:\n",
    "    for c in riga[:-1]:\n",
    "        l.append(c)\n",
    "array = np.array(l)"
   ]
  },
  {
   "cell_type": "code",
   "execution_count": 3,
   "id": "a029db83",
   "metadata": {},
   "outputs": [
    {
     "data": {
      "text/plain": [
       "(array(['A', 'C', 'G', 'T'], dtype='<U1'),\n",
       " array([8954, 5492, 5863, 9594], dtype=int64))"
      ]
     },
     "execution_count": 3,
     "metadata": {},
     "output_type": "execute_result"
    }
   ],
   "source": [
    "frequenze_assolute = np.unique(array,return_counts=True)\n",
    "frequenze_assolute"
   ]
  },
  {
   "cell_type": "code",
   "execution_count": 6,
   "id": "768546d7",
   "metadata": {},
   "outputs": [
    {
     "data": {
      "text/plain": [
       "725"
      ]
     },
     "execution_count": 6,
     "metadata": {},
     "output_type": "execute_result"
    }
   ],
   "source": [
    "check = np.logical_and(array == \"A\", np.roll(array,-1) == \"T\")\n",
    "sequenze_ATG = np.logical_and(check, np.roll(array,-2) == \"G\")\n",
    "frequenza_ATG = array[sequenze_ATG].shape[0]\n",
    "frequenza_ATG"
   ]
  },
  {
   "cell_type": "code",
   "execution_count": 5,
   "id": "77549439",
   "metadata": {},
   "outputs": [
    {
     "data": {
      "text/plain": [
       "array([['C', 'G', 'G', ..., 'T', 'A', 'T'],\n",
       "       ['C', 'T', 'A', ..., 'C', 'G', 'A'],\n",
       "       ['T', 'C', 'G', ..., 'G', 'A', 'G'],\n",
       "       ...,\n",
       "       ['T', 'G', 'G', ..., 'A', 'G', 'C'],\n",
       "       ['C', 'A', 'C', ..., 'T', 'T', 'A'],\n",
       "       ['G', 'C', 'G', ..., 'A', 'C', 'G']], dtype='<U1')"
      ]
     },
     "execution_count": 5,
     "metadata": {},
     "output_type": "execute_result"
    }
   ],
   "source": [
    "n = \"ATGTTTGTTTT\"\n",
    "matrice = np.random.choice((\"A\",\"T\",\"C\",\"G\"),(4092,12))\n",
    "matrice"
   ]
  },
  {
   "cell_type": "markdown",
   "id": "de8c9dd9",
   "metadata": {},
   "source": [
    "### Esercizio 2\n",
    "Il file `prezzi.cvs` contiene le serie storiche mensili dei prezzi di alcuni generi alimentari dal Settembre 2011 a Dicembre 2016. Caricare all'interno di opportuni array di Numpy soltanto le serie dei prezzi utili a rispondere alle domande seguenti.\n",
    "\n",
    "1. Per il periodo Settembre 2011 - Dicembre 2016 calcola il prezzo di una spesa composta da:\n",
    "    - 5kg di Farina di frumento\n",
    "    - 1 l di Latte fresco\n",
    "    - 1 kg di Caffè tostato\n",
    "    - 0.5 kg di Parmigiano Reggiano\n",
    "2. Per la spesa del punto 1 calcola se ci sono dei minimi locali nel prezzo e se si quando (anno, mese).\n",
    "\n",
    "3. Traccia un grafico che mostri l'andamento del prezzo del Caffè tostato (gr. 1000).\n",
    "\n",
    "4. Calcola un array con le variazioni di prezzo mensile per il Caffè tostato (gr. 1000).\n",
    "\n",
    "5. Calcola un array con le variazioni di prezzo mensile per il Burro (gr. 1000).\n",
    "\n",
    "6. Traccia un grafico a dispersione che mostri la variazione di prezzo mensile per il Caffè tostato (gr. 1000) rispetto a quella del Burro (gr. 1000)."
   ]
  },
  {
   "cell_type": "markdown",
   "id": "c6f93a9f",
   "metadata": {},
   "source": [
    "### Leggo il file"
   ]
  },
  {
   "cell_type": "code",
   "execution_count": 8,
   "id": "d1eea052",
   "metadata": {},
   "outputs": [],
   "source": [
    "spese = {\"anno\":[],\"mese\":[],\"SpesaTotale\":[]}\n",
    "with open(\"./prezzi.csv\",\"r\") as f:\n",
    "    righe = f.readlines()\n",
    "#righe[0].split(\";\")"
   ]
  },
  {
   "cell_type": "markdown",
   "id": "8d4052b6",
   "metadata": {},
   "source": [
    "### Punto 1"
   ]
  },
  {
   "cell_type": "code",
   "execution_count": 10,
   "id": "be23cd54",
   "metadata": {},
   "outputs": [],
   "source": [
    "for riga in righe[1:]:\n",
    "    riga = riga[:-1].split(\";\")\n",
    "    spese[\"anno\"].append(int(riga[0]))\n",
    "    spese[\"mese\"].append(riga[1])\n",
    "    spese[\"SpesaTotale\"].append(5*float(riga[9])+10*float(riga[11])+float(riga[6])+0.5*float(riga[17]))"
   ]
  },
  {
   "cell_type": "code",
   "execution_count": 12,
   "id": "153893d4",
   "metadata": {},
   "outputs": [],
   "source": [
    "for key,lista in spese.items():\n",
    "    spese[key] = np.array(lista)"
   ]
  },
  {
   "cell_type": "markdown",
   "id": "d4834424",
   "metadata": {},
   "source": [
    "### Punto 2"
   ]
  },
  {
   "cell_type": "code",
   "execution_count": 15,
   "id": "da303c67",
   "metadata": {},
   "outputs": [
    {
     "data": {
      "text/plain": [
       "array([43.47 , 43.225, 43.81 , 43.47 , 43.225, 43.81 , 43.7  , 43.7  ,\n",
       "       44.38 , 44.275, 44.   , 44.315, 43.645, 43.66 , 42.215, 41.29 ,\n",
       "       40.745, 40.885, 43.47 , 43.225, 43.81 , 43.47 , 43.225, 43.81 ,\n",
       "       43.7  , 43.7  , 44.38 , 44.275, 44.   , 44.315, 43.645, 43.66 ,\n",
       "       42.215, 41.29 , 40.745, 40.885])"
      ]
     },
     "execution_count": 15,
     "metadata": {},
     "output_type": "execute_result"
    }
   ],
   "source": [
    "indici_minimi_locali = np.logical_and(spese[\"SpesaTotale\"]<np.roll(spese[\"SpesaTotale\"],1),spese['SpesaTotale']<np.roll(spese['SpesaTotale'],-1))\n",
    "minimi_locali = spese[\"SpesaTotale\"][indici_minimi_locali]\n",
    "minimi_locali"
   ]
  },
  {
   "cell_type": "markdown",
   "id": "77158aaa",
   "metadata": {},
   "source": [
    "### Punto 3"
   ]
  },
  {
   "cell_type": "code",
   "execution_count": 24,
   "id": "043904ce",
   "metadata": {},
   "outputs": [
    {
     "data": {
      "image/png": "[encoded data removed]",
      "text/plain": [
       "<Figure size 1080x360 with 1 Axes>"
      ]
     },
     "metadata": {
      "needs_background": "light"
     },
     "output_type": "display_data"
    }
   ],
   "source": [
    "l = []\n",
    "for riga in righe[1:]:\n",
    "    riga = riga[:-1].split(\";\")\n",
    "    l.append(float(riga[6]))\n",
    "prezzi_caffe_tostato = np.array(l)\n",
    "fig, ax = plt.subplots(figsize=(15,5))\n",
    "ax.plot(prezzi_caffe_tostato)\n",
    "plt.show()"
   ]
  },
  {
   "cell_type": "markdown",
   "id": "01e0a44a",
   "metadata": {},
   "source": [
    "### Punto 4"
   ]
  },
  {
   "cell_type": "code",
   "execution_count": 28,
   "id": "aa89d749",
   "metadata": {},
   "outputs": [
    {
     "data": {
      "text/plain": [
       "array([ 0.06, -0.36, -0.23,  0.  , -0.05, -0.08, -0.03, -0.1 , -0.09,\n",
       "        0.09, -0.16,  0.01,  0.  ,  0.41,  0.  , -0.05, -0.08, -0.03,\n",
       "       -0.1 , -0.09,  0.09, -0.16,  0.01,  0.  ,  0.04,  0.11, -0.1 ,\n",
       "       -0.02,  0.05,  0.02,  0.57,  0.  ,  0.2 ,  0.01, -0.22, -0.43,\n",
       "        0.03, -0.06, -0.19, -0.01,  0.22,  0.  , -0.02,  0.02, -0.19,\n",
       "       -0.29,  0.23,  0.2 , -0.07,  0.64,  0.  , -0.02, -0.09,  0.19,\n",
       "       -0.16,  0.  ,  0.36,  0.  , -0.08])"
      ]
     },
     "execution_count": 28,
     "metadata": {},
     "output_type": "execute_result"
    }
   ],
   "source": [
    "variazioni_prezzi_caffe_tostato = prezzi_caffe_tostato - np.roll(prezzi_caffe_tostato,-1)\n",
    "variazioni_prezzi_caffe_tostato"
   ]
  },
  {
   "cell_type": "markdown",
   "id": "8edef0dc",
   "metadata": {},
   "source": [
    "### Punto 5"
   ]
  },
  {
   "cell_type": "code",
   "execution_count": 31,
   "id": "a6a84d7b",
   "metadata": {},
   "outputs": [
    {
     "data": {
      "text/plain": [
       "array([ 0.08,  0.02, -0.19, -0.07,  0.02, -0.15,  0.12, -0.06, -0.12,\n",
       "       -0.13, -0.04, -0.11, -0.02,  0.56, -0.07,  0.02, -0.15,  0.12,\n",
       "       -0.06, -0.12, -0.13, -0.04, -0.11, -0.02,  0.09, -0.08, -0.05,\n",
       "       -0.34, -0.15, -0.13,  0.  ,  0.  ,  0.16, -0.06,  0.36,  0.2 ,\n",
       "       -0.19, -0.04,  0.  ,  0.1 ,  0.07,  0.  , -0.11, -0.01, -0.32,\n",
       "        0.31,  0.22, -0.28,  0.11,  0.36, -0.08, -0.01,  0.11,  0.33,\n",
       "       -0.12,  0.11, -0.03,  0.08,  0.04])"
      ]
     },
     "execution_count": 31,
     "metadata": {},
     "output_type": "execute_result"
    }
   ],
   "source": [
    "l = []\n",
    "for riga in righe[1:]:\n",
    "    riga = riga[:-1].split(\";\")\n",
    "    l.append(float(riga[5]))\n",
    "prezzi_burro = np.array(l)\n",
    "variazioni_prezzi_burro = prezzi_burro - np.roll(prezzi_burro,-1)\n",
    "variazioni_prezzi_burro"
   ]
  },
  {
   "cell_type": "markdown",
   "id": "9f97c9ee",
   "metadata": {},
   "source": [
    "### Punto 6"
   ]
  },
  {
   "cell_type": "code",
   "execution_count": 36,
   "id": "e1a9de19",
   "metadata": {},
   "outputs": [
    {
     "data": {
      "image/png": "[encoded data removed]",
      "text/plain": [
       "<Figure size 720x720 with 1 Axes>"
      ]
     },
     "metadata": {
      "needs_background": "light"
     },
     "output_type": "display_data"
    }
   ],
   "source": [
    "fig, ax = plt.subplots(figsize=(10,10))\n",
    "ax.set_title(\"Caffe-burro\")\n",
    "ax.scatter(variazioni_prezzi_burro,variazioni_prezzi_caffe_tostato)\n",
    "ax.set_xlabel(\"Variazioni burro\")\n",
    "ax.set_ylabel(\"Variazioni caffè\")\n",
    "plt.show()"
   ]
  },
  {
   "cell_type": "markdown",
   "id": "77a2f62b",
   "metadata": {},
   "source": [
    "### Esercizio 3\n",
    "L'array `array_punti` è un array di Numpy come quello sottostante, contenente quattro coppie di coordinate spaziali intere scelte a caso, che rappresentano quattro punti nel piano. Essi sono i quattro vertici di una figura geometrica piana, letti in verso anti-orario. Facendo uso di Numpy:\n",
    "1. crea una funzione che verifichi se la figura geometrica è un quadrilatero, un triangolo, un segmento oppure un punto;\n",
    "2. crea una funzione che calcoli il perimetro della figura."
   ]
  },
  {
   "cell_type": "code",
   "execution_count": 128,
   "id": "eea2d133",
   "metadata": {},
   "outputs": [],
   "source": [
    "def check(punto):\n",
    "    if punto[0] == True and punto[1] == True:\n",
    "        return True\n",
    "    else:\n",
    "        return False"
   ]
  },
  {
   "cell_type": "code",
   "execution_count": 133,
   "id": "36559980",
   "metadata": {},
   "outputs": [],
   "source": [
    "def controlla_punti_uguali(array_punti):\n",
    "    check1 = array_punti == np.roll(array_punti,-2)\n",
    "    check2 = array_punti == np.roll(array_punti,-4)\n",
    "    check3 = array_punti == np.roll(array_punti,-6)\n",
    "    punti_uguali = np.logical_or(np.logical_or(check1,check2),check3)\n",
    "    c = 0\n",
    "    for punto in punti_uguali:\n",
    "        if check(punto):\n",
    "            c += 1\n",
    "    return c"
   ]
  },
  {
   "cell_type": "code",
   "execution_count": 209,
   "id": "6eebcc07",
   "metadata": {},
   "outputs": [],
   "source": [
    "def riconosci_figura_geomtrice(array_punti):\n",
    "    punti_uguali = controlla_punti_uguali(array_punti)\n",
    "    if punti_uguali == 4:\n",
    "        figura = \"Punto\"\n",
    "    elif punti_uguali == 3:\n",
    "        figura = \"Segmento\"\n",
    "    elif punti_uguali == 2:\n",
    "        figura = \"Triangolo\"\n",
    "    elif punti_uguali == 0 or punti_uguali == 1:\n",
    "        figura = \"Quadrilatero\"\n",
    "    return figura"
   ]
  },
  {
   "cell_type": "code",
   "execution_count": 206,
   "id": "e98fa22a",
   "metadata": {},
   "outputs": [
    {
     "data": {
      "text/plain": [
       "array([[1, 4],\n",
       "       [1, 2],\n",
       "       [2, 2],\n",
       "       [3, 3]])"
      ]
     },
     "execution_count": 206,
     "metadata": {},
     "output_type": "execute_result"
    }
   ],
   "source": [
    "array_punti= np.random.randint(0.,5,(4,2))\n",
    "array_punti"
   ]
  },
  {
   "cell_type": "code",
   "execution_count": 210,
   "id": "e00b2745",
   "metadata": {},
   "outputs": [
    {
     "data": {
      "text/plain": [
       "'Quadrilatero'"
      ]
     },
     "execution_count": 210,
     "metadata": {},
     "output_type": "execute_result"
    }
   ],
   "source": [
    "riconosci_figura_geomtrice(array_punti)"
   ]
  },
  {
   "cell_type": "code",
   "execution_count": 208,
   "id": "d6f35c68",
   "metadata": {},
   "outputs": [
    {
     "data": {
      "image/png": "[encoded data removed]",
      "text/plain": [
       "<Figure size 720x720 with 1 Axes>"
      ]
     },
     "metadata": {
      "needs_background": "light"
     },
     "output_type": "display_data"
    }
   ],
   "source": [
    "array_x = array_punti[:,0]\n",
    "array_y = array_punti[:,1]\n",
    "fig, ax = plt.subplots(figsize=(10,10))\n",
    "ax.scatter(array_x,array_y)\n",
    "plt.show()"
   ]
  },
  {
   "cell_type": "markdown",
   "id": "d3801817",
   "metadata": {},
   "source": [
    "### Esercizio 4 (BONUS)\n",
    "Usa Numpy per calcolare una approssimazione dell'integrale definito della funzione f(x) = exp(-x^2) da 0 a 1. Suddividi l'intervallo [0,1] in n sotto-intervalli e per ogni sotto-intervallo approssima l'area sottesa dalla funzione con l'area del corrispondente rettangolo.\n",
    "![rettangoli](rettangolo.png)\n",
    "Calcola il risultato per n=10, 100, 10000, 100000."
   ]
  }
 ],
 "metadata": {
  "kernelspec": {
   "display_name": "Python 3 (ipykernel)",
   "language": "python",
   "name": "python3"
  },
  "language_info": {
   "codemirror_mode": {
    "name": "ipython",
    "version": 3
   },
   "file_extension": ".py",
   "mimetype": "text/x-python",
   "name": "python",
   "nbconvert_exporter": "python",
   "pygments_lexer": "ipython3",
   "version": "3.9.12"
  }
 },
 "nbformat": 4,
 "nbformat_minor": 5
}

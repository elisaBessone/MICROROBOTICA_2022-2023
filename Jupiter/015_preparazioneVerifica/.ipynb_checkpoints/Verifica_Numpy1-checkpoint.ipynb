{
 "cells": [
  {
   "cell_type": "code",
   "execution_count": 3,
   "id": "a4ae9fe9",
   "metadata": {},
   "outputs": [],
   "source": [
    "import numpy as np\n",
    "import matplotlib.pyplot as plt"
   ]
  },
  {
   "cell_type": "markdown",
   "id": "de801a19",
   "metadata": {},
   "source": [
    "### Esercizio 1\n",
    "Nel file `covid-19_gen1.txt` è presente l'RNA di un virus SARS-COV-2. L'RNA è una sequenza in cui si alternano 4 simboli (detti nucleotidi): A, T, C, G.\n",
    "L'RNA del  virus SARS-COV-2 contiene 29903 nucleotidi. Leggi il file e crea un array di Numpy contenente i 29903 elementi, uno per ogni nucleotide secondo l'ordine contenuto nel file.\n",
    "\n",
    "Utilizza Numpy per:\n",
    "1. calcolare la frequenza assoluta di ogni nucleotide;\n",
    "2. calcolare la frequenza assoluta della sequenza A,T,G;\n",
    "4. sapendo che la sequenza A,T,G,T,T,T,G,T,T,T,T,T sta all'inzio del segmento di RNA che codifica la proteina spike, individuare se la proteina spike è presente nell'RNA: in caso affermativo ottenere la posizione iniziale della proteina spike all'interno dell'array. *SUGGERIMENTO*: costruisci la matrice contenente tutte le possibili sequenze di 12 nucleotidi, nella quale ogni riga rappresenta una sequenza consecutiva di 12 nucleotidi."
   ]
  },
  {
   "cell_type": "code",
   "execution_count": 4,
   "id": "f0bbdf09",
   "metadata": {},
   "outputs": [],
   "source": [
    "f = open(\"covid-19_gen1.txt\")\n",
    "file = f.readlines()\n",
    "#file"
   ]
  },
  {
   "cell_type": "markdown",
   "id": "c1ee9144",
   "metadata": {},
   "source": [
    "#### inserisco in un array numpy tutti i nucleotidi"
   ]
  },
  {
   "cell_type": "code",
   "execution_count": 5,
   "id": "dac4e401",
   "metadata": {},
   "outputs": [
    {
     "data": {
      "text/plain": [
       "array(['A', 'T', 'T', ..., 'A', 'A', 'A'], dtype='<U1')"
      ]
     },
     "execution_count": 5,
     "metadata": {},
     "output_type": "execute_result"
    }
   ],
   "source": [
    "array_nucleotidi = []\n",
    "for riga in file:\n",
    "    riga = riga.strip()\n",
    "    for nucleotide in riga:\n",
    "        array_nucleotidi.append(nucleotide)\n",
    "array_nucleotidi = np.array(array_nucleotidi)\n",
    "array_nucleotidi"
   ]
  },
  {
   "cell_type": "markdown",
   "id": "37a92a7c",
   "metadata": {},
   "source": [
    "#### calcolare la frequenza assoluta"
   ]
  },
  {
   "cell_type": "code",
   "execution_count": 6,
   "id": "612ff6a7",
   "metadata": {},
   "outputs": [],
   "source": [
    "nucleotidi = [\"A\", \"T\", \"C\", \"G\"]\n",
    "frequenze_assolute = {\"A\" : 0, \"T\": 0, \"C\":0, \"G\":0}"
   ]
  },
  {
   "cell_type": "code",
   "execution_count": 7,
   "id": "a879ac30",
   "metadata": {},
   "outputs": [],
   "source": [
    "for n in nucleotidi:\n",
    "    frequenze_assolute[n] = len(array_nucleotidi[array_nucleotidi == n])"
   ]
  },
  {
   "cell_type": "code",
   "execution_count": 8,
   "id": "6fa1b8c7",
   "metadata": {},
   "outputs": [
    {
     "data": {
      "text/plain": [
       "\"Freqeunze assulute dei nucleotidi ['A', 'T', 'C', 'G'] >> {'A': 8954, 'T': 9594, 'C': 5492, 'G': 5863}\""
      ]
     },
     "execution_count": 8,
     "metadata": {},
     "output_type": "execute_result"
    }
   ],
   "source": [
    "(f\"Freqeunze assulute dei nucleotidi {nucleotidi} >> {frequenze_assolute}\")"
   ]
  },
  {
   "cell_type": "code",
   "execution_count": 9,
   "id": "d2c8d8ec",
   "metadata": {},
   "outputs": [],
   "source": [
    "#### calcolare la frequenza assoluta della sequenza \"A, T, G\""
   ]
  },
  {
   "cell_type": "code",
   "execution_count": 10,
   "id": "4195247e",
   "metadata": {
    "scrolled": false
   },
   "outputs": [
    {
     "name": "stdout",
     "output_type": "stream",
     "text": [
      "La frequenza assuluta della sequenza ['A' 'T' 'G'] è >> 725\n"
     ]
    }
   ],
   "source": [
    "frequenza_sequenza = 0\n",
    "sequenza_nucleotidi = [\"A\", \"T\", \"G\"]\n",
    "sequenza_nucleotidi = np.array(sequenza_nucleotidi)\n",
    "for i in range(0, len(array_nucleotidi)-2):\n",
    "    if all(array_nucleotidi[i:i+3] == sequenza_nucleotidi):\n",
    "        frequenza_sequenza = frequenza_sequenza + 1\n",
    "print(f\"La frequenza assuluta della sequenza {sequenza_nucleotidi} è >> {frequenza_sequenza}\")"
   ]
  },
  {
   "cell_type": "code",
   "execution_count": 11,
   "id": "08351c78",
   "metadata": {},
   "outputs": [
    {
     "data": {
      "text/plain": [
       "725"
      ]
     },
     "execution_count": 11,
     "metadata": {},
     "output_type": "execute_result"
    }
   ],
   "source": [
    "primo = np.logical_and(array_nucleotidi == \"A\", np.roll(array_nucleotidi,-1) == \"T\")\n",
    "sequenze_ATG = np.logical_and(primo, np.roll(array_nucleotidi,-2) == \"G\")\n",
    "frequenza_ATG = array_nucleotidi[sequenze_ATG].shape[0]\n",
    "frequenza_ATG"
   ]
  },
  {
   "cell_type": "markdown",
   "id": "ec1df903",
   "metadata": {},
   "source": [
    "#### proteina sprike"
   ]
  },
  {
   "cell_type": "code",
   "execution_count": 12,
   "id": "fcf5b865",
   "metadata": {},
   "outputs": [
    {
     "name": "stdout",
     "output_type": "stream",
     "text": [
      "Ho trovato la proteina sprike>> ['A', 'T', 'G', 'T', 'T', 'T', 'G', 'T', 'T', 'T', 'T', 'T']\n"
     ]
    }
   ],
   "source": [
    "proteina_sprike = [\"A\",\"T\",\"G\",\"T\",\"T\",\"T\",\"G\",\"T\",\"T\",\"T\",\"T\",\"T\"]\n",
    "sequenza_12 = []\n",
    "trovato = False\n",
    "for pos in range(0, len(array_nucleotidi)-11, 1):\n",
    "    if all(array_nucleotidi[pos:pos+12] == proteina_sprike):\n",
    "        #print(array_nucleotidi[pos:pos+12])\n",
    "        trovato = True\n",
    "    #sequenza_12.append(array_nucleotidi[pos:pos+12])\n",
    "#sequenza_12 = np.array(sequenza_12)\n",
    "if trovato:\n",
    "    print(f\"Ho trovato la proteina sprike>> {proteina_sprike}\")\n",
    "else:\n",
    "    print(f\"Non ho trovato la proteina sprike>> {proteina_sprike}\")\n",
    "    "
   ]
  },
  {
   "cell_type": "markdown",
   "id": "de8c9dd9",
   "metadata": {},
   "source": [
    "### Esercizio 2\n",
    "Il file `prezzi.cvs` contiene le serie storiche mensili dei prezzi di alcuni generi alimentari dal Settembre 2011 a Dicembre 2016. Caricare all'interno di opportuni array di Numpy soltanto le serie dei prezzi utili a rispondere alle domande seguenti.\n",
    "\n",
    "1. Per il periodo Settembre 2011 - Dicembre 2016 calcola il prezzo di una spesa composta da:\n",
    "    - 5kg di Farina di frumento\n",
    "    - 1 l di Latte fresco\n",
    "    - 1 kg di Caffè tostato\n",
    "    - 0.5 kg di Parmigiano Reggiano\n",
    "2. Per la spesa del punto 1 calcola se ci sono dei minimi locali nel prezzo e se si quando (anno, mese).\n",
    "\n",
    "3. Traccia un grafico che mostri l'andamento del prezzo del Caffè tostato (gr. 1000).\n",
    "\n",
    "4. Calcola un array con le variazioni di prezzo mensile per il Caffè tostato (gr. 1000).\n",
    "\n",
    "5. Calcola un array con le variazioni di prezzo mensile per il Burro (gr. 1000).\n",
    "\n",
    "6. Traccia un grafico a dispersione che mostri la variazione di prezzo mensile per il Caffè tostato (gr. 1000) rispetto a quella del Burro (gr. 1000)."
   ]
  },
  {
   "cell_type": "code",
   "execution_count": 13,
   "id": "1fdfc03f",
   "metadata": {},
   "outputs": [],
   "source": [
    "f = open(\"prezzi.csv\")\n",
    "file = f.readlines()\n",
    "f.close()\n",
    "intestazione = file[0]\n",
    "file = file[1:]\n",
    "#intestazione"
   ]
  },
  {
   "cell_type": "code",
   "execution_count": 14,
   "id": "09263b75",
   "metadata": {},
   "outputs": [],
   "source": [
    "dizionario_alimentari = {}\n",
    "for chiave in intestazione.split(\";\"):\n",
    "    dizionario_alimentari[chiave] = []\n",
    "#dizionario_alimentari"
   ]
  },
  {
   "cell_type": "code",
   "execution_count": 15,
   "id": "2ba2d6f4",
   "metadata": {},
   "outputs": [],
   "source": [
    "anno = 0\n",
    "mese = 1\n",
    "burro = 5\n",
    "caffe = 6\n",
    "farina = 9\n",
    "latte = 11\n",
    "parmigiano = 17\n"
   ]
  },
  {
   "cell_type": "code",
   "execution_count": 16,
   "id": "e4cac851",
   "metadata": {},
   "outputs": [],
   "source": [
    "for riga in file:\n",
    "    riga = riga.split(\";\")\n",
    "    dizionario_alimentari[\"anno\"].append(int(riga[anno]))\n",
    "    dizionario_alimentari[\"mese\"].append(riga[mese])\n",
    "    dizionario_alimentari[\"Burro (gr. 1000)\"].append(float(riga[burro]))\n",
    "    dizionario_alimentari[\"CaffÃ¨ tostato (gr. 1000)\"].append(float(riga[caffe]))\n",
    "    dizionario_alimentari['Farina di frumento (gr. 1000)'].append(float(riga[farina]))\n",
    "    dizionario_alimentari['Latte fresco (cl. 100)'].append(float(riga[latte]))\n",
    "    dizionario_alimentari['Parmigiano Reggiano (gr. 1000)'].append(float(riga[parmigiano]))"
   ]
  },
  {
   "cell_type": "code",
   "execution_count": 17,
   "id": "0592c563",
   "metadata": {},
   "outputs": [],
   "source": [
    "for chiave in dizionario_alimentari:\n",
    "    dizionario_alimentari[chiave] = np.array(dizionario_alimentari[chiave])"
   ]
  },
  {
   "cell_type": "code",
   "execution_count": 18,
   "id": "e1d8a85d",
   "metadata": {},
   "outputs": [],
   "source": [
    "dizionario_alimentari[\"spesaTotale\"] = []\n",
    "for riga in file:\n",
    "    riga = riga.split(\";\")\n",
    "    dizionario_alimentari[\"spesaTotale\"].append(5*float(riga[farina])+10*float(riga[latte])+float(riga[caffe])+0.5*float(riga[parmigiano]))"
   ]
  },
  {
   "cell_type": "code",
   "execution_count": 27,
   "id": "489759ce",
   "metadata": {},
   "outputs": [
    {
     "name": "stdout",
     "output_type": "stream",
     "text": [
      "anno\n",
      "mese\n",
      "Acqua minerale (cl. 900)\n",
      "Birra nazionale (cl. 100)\n",
      "Biscotti frollini (gr. 1000)\n",
      "Burro (gr. 1000)\n",
      "CaffÃ¨ tostato (gr. 1000)\n",
      "Carne fresca bovino adulto. primo taglio (gr. 1000)\n",
      "Carne fresca suina con osso (gr. 1000)\n",
      "Farina di frumento (gr. 1000)\n",
      "Filetti di platessa surgelati (gr. 1000)\n",
      "Latte fresco (cl. 100)\n",
      "Merenda preconfezionata (gr. 1000)\n",
      "Olio di semi di girasole (cl. 100)\n",
      "Olio extra vergine di oliva (cl. 100)\n",
      "Orate fresche di allevamento (gr. 1000)\n",
      "Pane (gr. 1000)\n",
      "Parmigiano Reggiano (gr. 1000)\n",
      "Pasta di semola di grano duro (gr. 1000)\n",
      "Pollo fresco (gr. 1000)\n",
      "Piselli surgelati (gr. 1000)\n",
      "Pomodori pelati (gr. 1000)\n",
      "Prosciutto cotto (gr. 1000)\n",
      "Prosciutto crudo (gr. 1000)\n",
      "Riso (gr. 1000)\n",
      "Stracchino o crescenza (gr. 1000)\n",
      "Succo di frutta (cl. 100)\n",
      "Tonno in olio d'oliva (gr. 1000)\n",
      "Uova di gallina (pz. 6)\n",
      "Vino da tavola (cl. 100)\n",
      "Yogurt (gr. 125)\n",
      "Zucchero (gr. 1000)\n",
      "\n",
      "spesaTotale\n"
     ]
    }
   ],
   "source": [
    "for chiave in dizionario_alimentari:\n",
    "    print(chiave)"
   ]
  },
  {
   "cell_type": "code",
   "execution_count": 19,
   "id": "953216a0",
   "metadata": {},
   "outputs": [
    {
     "data": {
      "text/plain": [
       "[44.39,\n",
       " 44.39,\n",
       " 43.64,\n",
       " 43.47,\n",
       " 43.485,\n",
       " 43.47,\n",
       " 43.295,\n",
       " 43.225,\n",
       " 43.64000000000001,\n",
       " 44.150000000000006,\n",
       " 43.81,\n",
       " 43.82000000000001,\n",
       " 43.760000000000005,\n",
       " 43.7,\n",
       " 43.47,\n",
       " 43.485,\n",
       " 43.47,\n",
       " 43.295,\n",
       " 43.225,\n",
       " 43.64000000000001,\n",
       " 44.150000000000006,\n",
       " 43.81,\n",
       " 43.82000000000001,\n",
       " 43.760000000000005,\n",
       " 43.7,\n",
       " 43.809999999999995,\n",
       " 43.699999999999996,\n",
       " 44.63999999999999,\n",
       " 44.379999999999995,\n",
       " 44.57,\n",
       " 44.71,\n",
       " 44.37,\n",
       " 44.275,\n",
       " 44.33,\n",
       " 44.0,\n",
       " 44.114999999999995,\n",
       " 44.345,\n",
       " 44.315,\n",
       " 44.345,\n",
       " 44.385000000000005,\n",
       " 44.25,\n",
       " 43.730000000000004,\n",
       " 43.644999999999996,\n",
       " 43.665,\n",
       " 43.66,\n",
       " 43.87,\n",
       " 44.195,\n",
       " 42.245,\n",
       " 42.215,\n",
       " 42.255,\n",
       " 41.39,\n",
       " 41.29,\n",
       " 41.32,\n",
       " 41.31,\n",
       " 40.745000000000005,\n",
       " 41.160000000000004,\n",
       " 41.23,\n",
       " 40.915,\n",
       " 40.885]"
      ]
     },
     "execution_count": 19,
     "metadata": {},
     "output_type": "execute_result"
    }
   ],
   "source": [
    "dizionario_alimentari[\"spesaTotale\"]"
   ]
  },
  {
   "cell_type": "markdown",
   "id": "1b5ecb51",
   "metadata": {},
   "source": [
    "farina5 = sum(dizionario_alimentari[\"Farina di frumento (gr. 1000)\"] * 5)\n",
    "latte1 = sum(dizionario_alimentari[\"Latte fresco (cl. 100)\"] * 1)\n",
    "caffe1 = sum(dizionario_alimentari['CaffÃ¨ tostato (gr. 1000)'] * 1)\n",
    "parmigiano05 = sum(dizionario_alimentari[\"Parmigiano Reggiano (gr. 1000)\"] * 0.5)\n",
    "totaleSpesa = farina5 + latte1 + caffe1 + parmigiano05\n",
    "print(f\"5kg di Farina di frumento> {farina5} \\n1 l di Latte fresco> {latte1} \\n1 kg di Caffè tostato> {caffe1} \\n0.5 kg di Parmigiano Reggiano> {parmigiano05}\")\n",
    "print(f\"TOTALE SPESA>> {totaleSpesa}\")"
   ]
  },
  {
   "cell_type": "code",
   "execution_count": 20,
   "id": "b6db76f8",
   "metadata": {},
   "outputs": [],
   "source": [
    "dizionario_alimentari[\"spesaTotale\"] = np.array(dizionario_alimentari[\"spesaTotale\"])"
   ]
  },
  {
   "cell_type": "markdown",
   "id": "b0fe5765",
   "metadata": {},
   "source": [
    "#### Per la spesa del punto 1 calcola se ci sono dei minimi locali nel prezzo e se si quando (anno, mese)."
   ]
  },
  {
   "cell_type": "code",
   "execution_count": 21,
   "id": "f26f8bad",
   "metadata": {},
   "outputs": [
    {
     "data": {
      "text/plain": [
       "array([43.47 , 43.225, 43.81 , 43.47 , 43.225, 43.81 , 43.7  , 43.7  ,\n",
       "       44.38 , 44.275, 44.   , 44.315, 43.645, 43.66 , 42.215, 41.29 ,\n",
       "       40.745, 40.885])"
      ]
     },
     "execution_count": 21,
     "metadata": {},
     "output_type": "execute_result"
    }
   ],
   "source": [
    "minimi_locali = np.logical_and(dizionario_alimentari[\"spesaTotale\"] < np.roll(dizionario_alimentari[\"spesaTotale\"], 1),dizionario_alimentari[\"spesaTotale\"] < np.roll(dizionario_alimentari[\"spesaTotale\"], -1))\n",
    "\n",
    "dizionario_alimentari[\"spesaTotale\"][minimi_locali]"
   ]
  },
  {
   "cell_type": "code",
   "execution_count": 29,
   "id": "9215c70a",
   "metadata": {},
   "outputs": [
    {
     "name": "stdout",
     "output_type": "stream",
     "text": [
      "2011 Dicembre\n",
      "2012 Aprile\n",
      "2012 Luglio\n",
      "2012 Dicembre\n",
      "2013 Aprile\n",
      "2013 Luglio\n",
      "2013 Ottobre\n",
      "2013 Dicembre\n",
      "2014 Febbraio\n",
      "2014 Giugno\n",
      "2014 Agosto\n",
      "2015 Marzo\n",
      "2015 Agosto\n",
      "2015 Ottobre\n",
      "2016 Febbraio\n",
      "2016 Maggio\n",
      "2016 Agosto\n",
      "2016 Dicembre\n"
     ]
    }
   ],
   "source": [
    "dizionario_alimentari[\"anno\"][minimi_locali], dizionario_alimentari[\"mese\"][minimi_locali]\n",
    "for anno, mese in zip(dizionario_alimentari[\"anno\"][minimi_locali], dizionario_alimentari[\"mese\"][minimi_locali]):\n",
    "    print(anno, mese)"
   ]
  },
  {
   "cell_type": "markdown",
   "id": "65279155",
   "metadata": {},
   "source": [
    "#### Traccia un grafico che mostri l'andamento del prezzo del Caffè tostato (gr. 1000)."
   ]
  },
  {
   "cell_type": "code",
   "execution_count": 23,
   "id": "222bc4e6",
   "metadata": {},
   "outputs": [
    {
     "data": {
      "text/plain": [
       "[<matplotlib.lines.Line2D at 0x23ac1935520>]"
      ]
     },
     "execution_count": 23,
     "metadata": {},
     "output_type": "execute_result"
    },
    {
     "data": {
      "image/png": "[encoded data removed]",
      "text/plain": [
       "<Figure size 1152x576 with 1 Axes>"
      ]
     },
     "metadata": {
      "needs_background": "light"
     },
     "output_type": "display_data"
    }
   ],
   "source": [
    "fig, ax = plt.subplots(figsize = (16,8))\n",
    "ax.plot(dizionario_alimentari[\"CaffÃ¨ tostato (gr. 1000)\"])"
   ]
  },
  {
   "cell_type": "markdown",
   "id": "f9a1e01e",
   "metadata": {},
   "source": [
    "#### Calcola un array con le variazioni di prezzo mensile per il Caffè tostato (gr. 1000)."
   ]
  },
  {
   "cell_type": "code",
   "execution_count": 24,
   "id": "23629af4",
   "metadata": {},
   "outputs": [
    {
     "data": {
      "text/plain": [
       "array([ 0.06, -0.36, -0.23,  0.  , -0.05, -0.08, -0.03, -0.1 , -0.09,\n",
       "        0.09, -0.16,  0.01,  0.  ,  0.41,  0.  , -0.05, -0.08, -0.03,\n",
       "       -0.1 , -0.09,  0.09, -0.16,  0.01,  0.  ,  0.04,  0.11, -0.1 ,\n",
       "       -0.02,  0.05,  0.02,  0.57,  0.  ,  0.2 ,  0.01, -0.22, -0.43,\n",
       "        0.03, -0.06, -0.19, -0.01,  0.22,  0.  , -0.02,  0.02, -0.19,\n",
       "       -0.29,  0.23,  0.2 , -0.07,  0.64,  0.  , -0.02, -0.09,  0.19,\n",
       "       -0.16,  0.  ,  0.36,  0.  , -0.08])"
      ]
     },
     "execution_count": 24,
     "metadata": {},
     "output_type": "execute_result"
    }
   ],
   "source": [
    "variazioni_caffe = dizionario_alimentari[\"CaffÃ¨ tostato (gr. 1000)\"] - np.roll(dizionario_alimentari[\"CaffÃ¨ tostato (gr. 1000)\"], -1)\n",
    "variazioni_caffe"
   ]
  },
  {
   "cell_type": "markdown",
   "id": "1880c678",
   "metadata": {},
   "source": [
    "#### Calcola un array con le variazioni di prezzo mensile per il Burro (gr. 1000)."
   ]
  },
  {
   "cell_type": "code",
   "execution_count": 25,
   "id": "c9a7804a",
   "metadata": {},
   "outputs": [
    {
     "data": {
      "text/plain": [
       "array([ 0.08,  0.02, -0.19, -0.07,  0.02, -0.15,  0.12, -0.06, -0.12,\n",
       "       -0.13, -0.04, -0.11, -0.02,  0.56, -0.07,  0.02, -0.15,  0.12,\n",
       "       -0.06, -0.12, -0.13, -0.04, -0.11, -0.02,  0.09, -0.08, -0.05,\n",
       "       -0.34, -0.15, -0.13,  0.  ,  0.  ,  0.16, -0.06,  0.36,  0.2 ,\n",
       "       -0.19, -0.04,  0.  ,  0.1 ,  0.07,  0.  , -0.11, -0.01, -0.32,\n",
       "        0.31,  0.22, -0.28,  0.11,  0.36, -0.08, -0.01,  0.11,  0.33,\n",
       "       -0.12,  0.11, -0.03,  0.08,  0.04])"
      ]
     },
     "execution_count": 25,
     "metadata": {},
     "output_type": "execute_result"
    }
   ],
   "source": [
    "variazioni_burro = dizionario_alimentari[\"Burro (gr. 1000)\"] - np.roll(dizionario_alimentari[\"Burro (gr. 1000)\"], -1)\n",
    "variazioni_burro"
   ]
  },
  {
   "cell_type": "markdown",
   "id": "8ef1ccce",
   "metadata": {},
   "source": [
    "#### Traccia un grafico a dispersione che mostri la variazione di prezzo mensile per il Caffè tostato (gr. 1000) rispetto a quella del Burro (gr. 1000).\n"
   ]
  },
  {
   "cell_type": "code",
   "execution_count": 26,
   "id": "6990c962",
   "metadata": {
    "scrolled": false
   },
   "outputs": [
    {
     "data": {
      "text/plain": [
       "<matplotlib.collections.PathCollection at 0x23ac26b5f70>"
      ]
     },
     "execution_count": 26,
     "metadata": {},
     "output_type": "execute_result"
    },
    {
     "data": {
      "image/png": "[encoded data removed]",
      "text/plain": [
       "<Figure size 1152x576 with 1 Axes>"
      ]
     },
     "metadata": {
      "needs_background": "light"
     },
     "output_type": "display_data"
    }
   ],
   "source": [
    "fig, ax = plt.subplots(figsize = (16,8))\n",
    "ax.scatter(variazioni_caffe, variazioni_burro)"
   ]
  },
  {
   "cell_type": "markdown",
   "id": "77a2f62b",
   "metadata": {},
   "source": [
    "### Esercizio 3\n",
    "L'array `array_punti` è un array di Numpy come quello sottostante, contenente quattro coppie di coordinate spaziali intere scelte a caso, che rappresentano quattro punti nel piano. Essi sono i quattro vertici di una figura geometrica piana, letti in verso anti-orario. Facendo uso di Numpy:\n",
    "1. crea una funzione che verifichi se la figura geometrica è un quadrilatero, un triangolo, un segmento oppure un punto;\n",
    "2. crea una funzione che calcoli il perimetro della figura."
   ]
  },
  {
   "cell_type": "code",
   "execution_count": 41,
   "id": "e98fa22a",
   "metadata": {},
   "outputs": [
    {
     "data": {
      "text/plain": [
       "array([[1, 1],\n",
       "       [0, 4],\n",
       "       [1, 3],\n",
       "       [4, 4]])"
      ]
     },
     "execution_count": 41,
     "metadata": {},
     "output_type": "execute_result"
    }
   ],
   "source": [
    "array_punti= np.random.randint(0.,5,(4,2))\n",
    "array_punti"
   ]
  },
  {
   "cell_type": "code",
   "execution_count": 42,
   "id": "85ccd4f2",
   "metadata": {},
   "outputs": [
    {
     "data": {
      "image/png": "[encoded data removed]",
      "text/plain": [
       "<Figure size 1152x576 with 1 Axes>"
      ]
     },
     "metadata": {
      "needs_background": "light"
     },
     "output_type": "display_data"
    }
   ],
   "source": [
    "valore_x = array_punti[:, 0]\n",
    "valore_y = array_punti[:, 1]\n",
    "fig, ax = plt.subplots(figsize = (16,8))\n",
    "ax.plot(valore_x, valore_y)\n",
    "\n",
    "plt.show()"
   ]
  },
  {
   "cell_type": "code",
   "execution_count": null,
   "id": "3afb6d6a",
   "metadata": {},
   "outputs": [],
   "source": []
  },
  {
   "cell_type": "code",
   "execution_count": null,
   "id": "eff07302",
   "metadata": {},
   "outputs": [],
   "source": []
  },
  {
   "cell_type": "code",
   "execution_count": null,
   "id": "f96aa289",
   "metadata": {},
   "outputs": [],
   "source": []
  },
  {
   "cell_type": "markdown",
   "id": "d3801817",
   "metadata": {},
   "source": [
    "### Esercizio 4 (BONUS)\n",
    "Usa Numpy per calcolare una approssimazione dell'integrale definito della funzione f(x) = exp(-x^2) da 0 a 1. Suddividi l'intervallo [0,1] in n sotto-intervalli e per ogni sotto-intervallo approssima l'area sottesa dalla funzione con l'area del corrispondente rettangolo.\n",
    "![rettangoli](rettangolo.png)\n",
    "Calcola il risultato per n=10, 100, 10000, 100000."
   ]
  },
  {
   "cell_type": "code",
   "execution_count": null,
   "id": "70c3bb9b",
   "metadata": {},
   "outputs": [],
   "source": []
  }
 ],
 "metadata": {
  "kernelspec": {
   "display_name": "Python 3 (ipykernel)",
   "language": "python",
   "name": "python3"
  },
  "language_info": {
   "codemirror_mode": {
    "name": "ipython",
    "version": 3
   },
   "file_extension": ".py",
   "mimetype": "text/x-python",
   "name": "python",
   "nbconvert_exporter": "python",
   "pygments_lexer": "ipython3",
   "version": "3.9.12"
  }
 },
 "nbformat": 4,
 "nbformat_minor": 5
}
